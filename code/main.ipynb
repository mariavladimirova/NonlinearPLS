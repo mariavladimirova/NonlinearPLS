{
 "cells": [
  {
   "cell_type": "code",
   "execution_count": 1,
   "metadata": {
    "ExecuteTime": {
     "end_time": "2017-11-11T19:20:58.716140Z",
     "start_time": "2017-11-11T19:20:56.489741Z"
    },
    "collapsed": true
   },
   "outputs": [],
   "source": [
    "import numpy as np\n",
    "import matplotlib.pyplot as plt\n",
    "%matplotlib inline\n",
    "import scipy as sc\n",
    "from scipy import io\n",
    "\n",
    "from sklearn.metrics import mean_squared_error"
   ]
  },
  {
   "cell_type": "code",
   "execution_count": 2,
   "metadata": {
    "ExecuteTime": {
     "end_time": "2017-11-11T19:20:59.741707Z",
     "start_time": "2017-11-11T19:20:58.744507Z"
    },
    "collapsed": false
   },
   "outputs": [],
   "source": [
    "import warnings\n",
    "from abc import ABCMeta, abstractmethod\n",
    "\n",
    "import numpy as np\n",
    "from scipy.linalg import pinv2, svd\n",
    "from scipy.sparse.linalg import svds\n",
    "\n",
    "from sklearn.base import BaseEstimator, RegressorMixin, TransformerMixin\n",
    "from sklearn.utils import check_array, check_consistent_length\n",
    "from sklearn.utils.extmath import svd_flip\n",
    "from sklearn.utils.validation import check_is_fitted, FLOAT_DTYPES\n",
    "from sklearn.externals import six\n",
    "\n",
    "\n",
    "def f(x, kind='linear', params=None):\n",
    "    if kind == 'linear':\n",
    "        return x\n",
    "    elif kind == 'g1':\n",
    "        return np.sign(x) * np.exp(params[0]) * (np.exp(params[1] * np.abs(x)) - 1)\n",
    "    elif kind == 'g2':\n",
    "        return np.sign(x) * np.exp(params[0]) * np.sqrt(np.abs(x))\n",
    "    elif kind == 'g3':\n",
    "        return np.sign(x) * np.exp(params[0]) * (np.exp(params[1] * np.sqrt(np.abs(x))) - 1)\n",
    "    elif kind == 'g4':\n",
    "        return np.sign(x) * np.exp(params[0]) * (np.exp(params[1] * np.abs(x) ** (1./3)) - 1)\n",
    "\n",
    "\n",
    "def finv(y, kind='linear', params=None, eps=1e-9):\n",
    "    if kind == 'linear':\n",
    "        return y\n",
    "    elif kind == 'g1':\n",
    "        return np.sign(y) * np.log(1 + np.abs(y) * np.exp(-params[0])) / (params[1] + eps)\n",
    "    elif kind == 'g2':\n",
    "        return np.sign(y) * (np.exp(-params[0]) * y) ** 2\n",
    "    elif kind == 'g3':\n",
    "        return np.sign(y) * (np.log(1 + np.abs(y) * np.exp(-params[0])) / (params[1] + eps)) ** 2\n",
    "    elif kind == 'g4':\n",
    "        return np.sign(y) * (np.log(1 + np.abs(y) * np.exp(-params[0])) / (params[1] + eps)) ** 3\n",
    "\n",
    "\n",
    "def fgrad(x, kind='linear', params=None, eps=1e-9):\n",
    "    if kind == 'linear':\n",
    "        return None\n",
    "    elif kind == 'g1':\n",
    "        grad = np.stack([np.zeros_like(x), np.zeros_like(x)], axis=2)\n",
    "        grad[:, :, 0] = np.sign(x) * np.exp(params[0]) * (np.exp(params[1] * np.abs(x)) - 1)\n",
    "        grad[:, :, 1] = x * np.exp(params[0]) * (np.exp(params[1] * np.abs(x)) - 1)\n",
    "    elif kind == 'g2:\n",
    "        grad = np.zeros_like(x)[:, :, np.newaxis]\n",
    "        grad = np.sign(x) * np.exp(params[0]) np.sqrt(np.abs(x))\n",
    "    elif kind == 'g3':\n",
    "        grad = np.stack([np.zeros_like(x), np.zeros_like(x)], axis=2)\n",
    "        grad[:, :, 0] = np.sign(x) * np.exp(params[0]) * (np.exp(params[1] * np.sqrt(np.abs(x))) - 1)\n",
    "        grad[:, :, 1] = np.exp(params[0]) * (np.exp(params[1] * \n",
    "                                                    np.sqrt(np.abs(x))) - 1) / (2. * np.sqrt(np.abs(x)) + eps)\n",
    "    elif kind == 'g4':\n",
    "        grad = np.stack([np.zeros_like(x), np.zeros_like(x)], axis=2)\n",
    "        grad[:, :, 0] = np.sign(x) * np.exp(params[0]) * (np.exp(params[1] * np.abs(x) ** (1./3)) - 1)\n",
    "        grad[:, :, 1] = np.exp(params[0]) * (np.exp(params[1] * \n",
    "                                                    np.abs(x) ** (1./3)) - 1)  / (3. * (np.abs(x)) ** (2./3) + eps)\n",
    "\n",
    "\n",
    "def jacob():\n",
    "    if kind == 'linear':\n",
    "        return None\n",
    "    elif kind == 'g1':\n",
    "        \n",
    "    elif kind == 'g2:\n",
    "        pass\n",
    "    elif kind == 'g3':\n",
    "        pass\n",
    "    elif kind == 'g4':\n",
    "        pass\n",
    "\n",
    "\n",
    "def params_initialize(kind='linear'):\n",
    "    if kind == 'linear':\n",
    "        return None\n",
    "    elif kind == 'exp':\n",
    "        pass\n",
    "    elif kind == 'softplus':\n",
    "        pass\n",
    "    elif kind == 'sigmoid':\n",
    "        pass\n",
    "    elif kind == 'relu':\n",
    "        pass\n",
    "    elif kind == 'leaky_relu':\n",
    "        pass\n",
    "    elif kind == 'elu':\n",
    "        pass\n",
    "\n",
    "\n",
    "def _center_scale_xy(X, Y, scale=True):\n",
    "    \"\"\" Center X, Y and scale if the scale parameter==True\n",
    "\n",
    "    Returns\n",
    "    -------\n",
    "        X, Y, x_mean, y_mean, x_std, y_std\n",
    "    \"\"\"\n",
    "    # center\n",
    "    x_mean = X.mean(axis=0)\n",
    "    X -= x_mean\n",
    "    y_mean = Y.mean(axis=0)\n",
    "    Y -= y_mean\n",
    "    # scale\n",
    "    if scale:\n",
    "        x_std = X.std(axis=0, ddof=1)\n",
    "        x_std[x_std == 0.0] = 1.0\n",
    "        X /= x_std\n",
    "        y_std = Y.std(axis=0, ddof=1)\n",
    "        y_std[y_std == 0.0] = 1.0\n",
    "        Y /= y_std\n",
    "    else:\n",
    "        x_std = np.ones(X.shape[1])\n",
    "        y_std = np.ones(Y.shape[1])\n",
    "    return X, Y, x_mean, y_mean, x_std, y_std\n",
    "\n",
    "\n",
    "def _nipals_twoblocks_inner_loop(X, Y, x_kind='linear', y_kind='linear', \n",
    "                                 x_params=None, y_params=None, max_iter=500, tol=1e-06):\n",
    "    \"\"\"Inner loop of the iterative NIPALS algorithm.\n",
    "\n",
    "    Provides an alternative to the svd(X'Y); returns the first left and right\n",
    "    singular vectors of X'Y.  See PLS for the meaning of the parameters.  It is\n",
    "    similar to the Power method for determining the eigenvectors and\n",
    "    eigenvalues of a X'Y.\n",
    "    \"\"\"\n",
    "# STEP 4\n",
    "    x_score = X[:, [0]]\n",
    "# STEP 5\n",
    "    y_score = Y[:, [0]]\n",
    "    x_weights_old = 0\n",
    "    ite = 1\n",
    "    X_pinv = Y_pinv = None\n",
    "    eps = np.finfo(X.dtype).eps\n",
    "    # Inner loop of the Wold algo.\n",
    "# STEP 6\n",
    "    while True:\n",
    "# STEP 7        \n",
    "        y_score_old = y_score.copy()\n",
    "        x_score_old = x_score.copy()\n",
    "# STEP 8        \n",
    "        X_hat = f(X, kind=x_kind, params=x_params)\n",
    "        Y_hat = f(Y, kind=y_kind, params=y_params)\n",
    "        # 1.1 Update u: the X weights\n",
    "        # Mode A regress each X column on y_score\n",
    "# STEP 9\n",
    "        x_weights = np.dot(X_hat.T, y_score) / np.dot(y_score.T, y_score)\n",
    "        # If y_score only has zeros x_weights will only have zeros. In\n",
    "        # this case add an epsilon to converge to a more acceptable\n",
    "        # solution\n",
    "        if np.dot(x_weights.T, x_weights) < eps:\n",
    "            x_weights += eps\n",
    "        # 1.2 Normalize u\n",
    "        x_weights /= np.sqrt(np.dot(x_weights.T, x_weights)) + eps\n",
    "        # 1.3 Update x_score: the X latent scores\n",
    "# STEP 10\n",
    "        x_score = np.dot(X_hat, x_weights)\n",
    "# STEP 11\n",
    "        if x_kind != 'linear':\n",
    "            J_t = jacob(a, kind=kind, params=x_params)\n",
    "            delta_x_params = np.linalg.inv(J_t.T.dot(J_t)).dot(J_t.T).dot(x_score - x_score_old)\n",
    "# STEP 12\n",
    "            x_params += delta_x_params\n",
    "        # 2.1 Update y_weights\n",
    "        # Mode A regress each Y column on x_score\n",
    "# STEP 13\n",
    "        y_weights = np.dot(Y_hat.T, x_score) / np.dot(x_score.T, x_score)\n",
    "        y_weights /= np.sqrt(np.dot(y_weights.T, y_weights)) + eps\n",
    "        # 2.2 Update y_score: the Y latent scores\n",
    "# STEP 14\n",
    "        y_score = np.dot(Y_hat, y_weights)\n",
    "# STEP 15\n",
    "        if y_kind != 'linear':\n",
    "            J_u = jacob(a, kind=kind, params=y_params)\n",
    "            delta_y_params = np.linalg.inv(J_u.T.dot(J_u)).dot(J_u.T).dot(y_score - y_score_old)\n",
    "# STEP 16\n",
    "            y_params += delta_y_params\n",
    "        x_weights_diff = x_weights - x_weights_old\n",
    "        if np.dot(x_weights_diff.T, x_weights_diff) < tol or Y.shape[1] == 1:\n",
    "            break\n",
    "        if ite == max_iter:\n",
    "            warnings.warn('Maximum number of iterations reached')\n",
    "            break\n",
    "        x_weights_old = x_weights\n",
    "        ite += 1\n",
    "    return x_weights, y_weights, ite\n",
    "\n",
    "\n",
    "class _PLS(six.with_metaclass(ABCMeta), BaseEstimator, TransformerMixin,\n",
    "           RegressorMixin):\n",
    "    \"\"\"Partial Least Squares (PLS)\n",
    "\n",
    "    This class implements the generic PLS algorithm, constructors' parameters\n",
    "    allow to obtain a specific implementation such as:\n",
    "\n",
    "    - PLS2 regression, i.e., PLS 2 blocks, mode A, with asymmetric deflation\n",
    "      and unnormalized y weights such as defined by [Tenenhaus 1998] p. 132.\n",
    "      With univariate response it implements PLS1.\n",
    "\n",
    "    - PLS canonical, i.e., PLS 2 blocks, mode A, with symmetric deflation and\n",
    "      normalized y weights such as defined by [Tenenhaus 1998] (p. 132) and\n",
    "      [Wegelin et al. 2000]. This parametrization implements the original Wold\n",
    "      algorithm.\n",
    "\n",
    "    We use the terminology defined by [Wegelin et al. 2000].\n",
    "    This implementation uses the PLS Wold 2 blocks algorithm based on two\n",
    "    nested loops:\n",
    "        (i) The outer loop iterate over components.\n",
    "        (ii) The inner loop estimates the weights vectors. This can be done\n",
    "        with two algo. the inner loop of the original NIPALS algo.\n",
    "        \n",
    "    n_components : int, number of components to keep. (default 2).\n",
    "    scale : boolean, scale data? (default True)\n",
    "    max_iter : an integer, the maximum number of iterations (default 500)\n",
    "        of the NIPALS inner loop (used only if algorithm=\"nipals\")\n",
    "    tol : non-negative real, default 1e-06\n",
    "        The tolerance used in the iterative algorithm.\n",
    "    copy : boolean, default True\n",
    "        Whether the deflation should be done on a copy. Let the default\n",
    "        value to True unless you don't care about side effects.\n",
    "\n",
    "    Attributes\n",
    "    ----------\n",
    "    x_weights_ : array, [p, n_components] X block weights vectors.\n",
    "    y_weights_ : array, [q, n_components] Y block weights vectors.\n",
    "    x_loadings_ : array, [p, n_components] X block loadings vectors.\n",
    "    y_loadings_ : array, [q, n_components] Y block loadings vectors.\n",
    "    x_scores_ : array, [n_samples, n_components] X scores.\n",
    "    y_scores_ : array, [n_samples, n_components] Y scores.\n",
    "    x_rotations_ : array, [p, n_components] X block to latents rotations.\n",
    "    y_rotations_ : array, [q, n_components] Y block to latents rotations.\n",
    "    coef_ : array, [p, q] The coefficients of the linear model: ``Y = X coef_ + Err``\n",
    "    n_iter_ : array-like Number of iterations of the NIPALS inner loop for each component.\n",
    "\n",
    "    \"\"\"\n",
    "\n",
    "    @abstractmethod\n",
    "    def __init__(self, n_components=2, scale=True,\n",
    "                 x_kind=\"linear\", y_kind='linear', max_iter=500, tol=1e-06):\n",
    "        self.n_components = n_components\n",
    "        self.scale = scale\n",
    "        self.x_kind = x_kind\n",
    "        self.y_kind = y_kind\n",
    "        self.max_iter = max_iter\n",
    "        self.tol = tol\n",
    "\n",
    "    def fit(self, X, Y):\n",
    "        \"\"\"Fit model to data.\n",
    "\n",
    "        Parameters\n",
    "        ----------\n",
    "        X : array-like, shape = [n_samples, n_features]\n",
    "            Training vectors, where n_samples is the number of samples and\n",
    "            n_features is the number of predictors.\n",
    "\n",
    "        Y : array-like, shape = [n_samples, n_targets]\n",
    "            Target vectors, where n_samples is the number of samples and\n",
    "            n_targets is the number of response variables.\n",
    "        \"\"\"\n",
    "\n",
    "        # copy since this will contains the residuals (deflated) matrices\n",
    "        check_consistent_length(X, Y)\n",
    "        X = check_array(X, dtype=np.float64, copy=True)\n",
    "        Y = check_array(Y, dtype=np.float64, copy=True, ensure_2d=False)\n",
    "        if Y.ndim == 1:\n",
    "            Y = Y.reshape(-1, 1)\n",
    "\n",
    "        n = X.shape[0]\n",
    "        p = X.shape[1]\n",
    "        q = Y.shape[1]\n",
    "\n",
    "        if self.n_components < 1 or self.n_components > p:\n",
    "            raise ValueError('Invalid number of components: %d' %\n",
    "                             self.n_components)\n",
    "        # Scale (in place)\n",
    "        X, Y, self.x_mean_, self.y_mean_, self.x_std_, self.y_std_ = (\n",
    "            _center_scale_xy(X, Y, self.scale))\n",
    "        # Residuals (deflated) matrices\n",
    "        Xk = X.copy()\n",
    "        Yk = Y.copy()\n",
    "# STEP 1\n",
    "        self.x_params = params_initialize(kind=self.x_kind)\n",
    "        self.y_params = params_initialize(kind=self.y_kind)\n",
    "        # Results matrices\n",
    "# STEP 2\n",
    "        self.x_scores_ = np.zeros((n, self.n_components))\n",
    "        self.y_scores_ = np.zeros((n, self.n_components))\n",
    "        self.x_weights_ = np.zeros((p, self.n_components))\n",
    "        self.y_weights_ = np.zeros((q, self.n_components))\n",
    "        self.x_loadings_ = np.zeros((p, self.n_components))\n",
    "        self.y_loadings_ = np.zeros((q, self.n_components))\n",
    "        self.n_iter_ = []\n",
    "\n",
    "        # NIPALS algo: outer loop, over components\n",
    "# STEP 3\n",
    "        for k in range(self.n_components):\n",
    "            if np.all(np.dot(Yk.T, Yk) < np.finfo(np.double).eps):\n",
    "                # Yk constant\n",
    "                warnings.warn('Y residual constant at iteration %s' % k)\n",
    "                break\n",
    "            # 1) weights estimation (inner loop)\n",
    "            # -----------------------------------\n",
    "# STEP 17\n",
    "            x_weights, y_weights, n_iter_ = \\\n",
    "                _nipals_twoblocks_inner_loop(\n",
    "                    X=Xk, Y=Yk, max_iter=self.max_iter,\n",
    "                    tol=self.tol, x_kind=self.x_kind, y_kind=self.y_kind,\n",
    "                    x_params=self.x_params, y_params=self.y_params)\n",
    "            self.n_iter_.append(n_iter_)\n",
    "            # Forces sign stability of x_weights and y_weights\n",
    "            # Sign undeterminacy issue from svd if algorithm == \"svd\"\n",
    "            # and from platform dependent computation if algorithm == 'nipals'\n",
    "            x_weights, y_weights = svd_flip(x_weights, y_weights.T)\n",
    "            y_weights = y_weights.T\n",
    "            # compute scores\n",
    "            \n",
    "            Xk_hat = f(Xk, kind=self.x_kind, params=self.x_params)\n",
    "            Yk_hat = f(Yk, kind=self.y_kind, params=self.y_params)\n",
    "            \n",
    "            x_scores = np.dot(Xk_hat, x_weights)\n",
    "            y_ss = np.dot(y_weights.T, y_weights)\n",
    "            y_scores = np.dot(Yk_hat, y_weights) / y_ss\n",
    "            # test for null variance\n",
    "            if np.dot(x_scores.T, x_scores) < np.finfo(np.double).eps:\n",
    "                warnings.warn('X scores are null at iteration %s' % k)\n",
    "                break\n",
    "            # 2) Deflation (in place)\n",
    "            # ----------------------\n",
    "            # Possible memory footprint reduction may done here: in order to\n",
    "            # avoid the allocation of a data chunk for the rank-one\n",
    "            # approximations matrix which is then subtracted to Xk, we suggest\n",
    "            # to perform a column-wise deflation.\n",
    "            #\n",
    "# STEP 19\n",
    "            x_loadings = np.dot(Xk_hat.T, x_scores) / np.dot(x_scores.T, x_scores)\n",
    "            y_loadings = (np.dot(Yk_hat.T, x_scores)\n",
    "                          / np.dot(x_scores.T, x_scores))\n",
    "            # - regress Xk's on x_score\n",
    "            # - subtract rank-one approximations to obtain remainder matrix\n",
    "# STEP 22\n",
    "            Xk_hat -= np.dot(x_scores, x_loadings.T)\n",
    "            # - regress Yk's on x_score, then subtract rank-one approx.\n",
    "# STEP 23\n",
    "            Yk_hat -= np.dot(x_scores, y_loadings.T)\n",
    "# STEP 24\n",
    "            Xk = finv(Xk_hat, kind=self.x_kind, params=self.x_params)\n",
    "            Yk = finv(Yk_hat, kind=self.y_kind, params=self.y_params)\n",
    "            # 3) Store weights, scores and loadings # Notation:\n",
    "            self.x_scores_[:, k] = x_scores.ravel()  # T\n",
    "            self.y_scores_[:, k] = y_scores.ravel()  # U\n",
    "            self.x_weights_[:, k] = x_weights.ravel()  # W\n",
    "            self.y_weights_[:, k] = y_weights.ravel()  # C\n",
    "            self.x_loadings_[:, k] = x_loadings.ravel()  # P\n",
    "            self.y_loadings_[:, k] = y_loadings.ravel()  # Q\n",
    "        # Such that: X = TP' + Err and Y = UQ' + Err\n",
    "\n",
    "        # 4) rotations from input space to transformed space (scores)\n",
    "        # T = X W(P'W)^-1 = XW* (W* : p x k matrix)\n",
    "        # U = Y C(Q'C)^-1 = YC* (C* : q x k matrix)\n",
    "        self.x_rotations_ = np.dot(\n",
    "            self.x_weights_,\n",
    "            pinv2(np.dot(self.x_loadings_.T, self.x_weights_),\n",
    "                  check_finite=False))\n",
    "        if Y.shape[1] > 1:\n",
    "            self.y_rotations_ = np.dot(\n",
    "                self.y_weights_,\n",
    "                pinv2(np.dot(self.y_loadings_.T, self.y_weights_),\n",
    "                      check_finite=False))\n",
    "        else:\n",
    "            self.y_rotations_ = np.ones(1)\n",
    "\n",
    "        # Estimate regression coefficient\n",
    "        # Regress Y on T\n",
    "        # Y = TQ' + Err,\n",
    "        # Then express in function of X\n",
    "        # Y = X W(P'W)^-1Q' + Err = XB + Err\n",
    "        # => B = W*Q' (p x q)\n",
    "        self.coef_ = np.dot(self.x_rotations_, self.y_loadings_.T)\n",
    "        # self.coef_ = self.coef_ * self.y_std_\n",
    "        return self\n",
    "\n",
    "    def transform(self, X, Y=None):\n",
    "        \"\"\"Apply the dimension reduction learned on the train data.\n",
    "\n",
    "        Parameters\n",
    "        ----------\n",
    "        X : array-like, shape = [n_samples, n_features]\n",
    "            Training vectors, where n_samples is the number of samples and\n",
    "            n_features is the number of predictors.\n",
    "\n",
    "        Y : array-like, shape = [n_samples, n_targets]\n",
    "            Target vectors, where n_samples is the number of samples and\n",
    "            n_targets is the number of response variables.\n",
    "\n",
    "        copy : boolean, default True\n",
    "            Whether to copy X and Y, or perform in-place normalization.\n",
    "\n",
    "        Returns\n",
    "        -------\n",
    "        x_scores if Y is not given, (x_scores, y_scores) otherwise.\n",
    "        \"\"\"\n",
    "        check_is_fitted(self, 'x_mean_')\n",
    "        X = check_array(X, dtype=FLOAT_DTYPES, copy=True)\n",
    "        # Normalize\n",
    "        X -= self.x_mean_\n",
    "        X /= self.x_std_\n",
    "        # Apply rotation\n",
    "        x_scores = np.dot(X, self.x_rotations_)\n",
    "        if Y is not None:\n",
    "            Y = check_array(Y, ensure_2d=False, dtype=FLOAT_DTYPES, copy=True)\n",
    "            if Y.ndim == 1:\n",
    "                Y = Y.reshape(-1, 1)\n",
    "            Y -= self.y_mean_\n",
    "            Y /= self.y_std_\n",
    "            y_scores = np.dot(Y, self.y_rotations_)\n",
    "            return x_scores, y_scores\n",
    "\n",
    "        return x_scores\n",
    "\n",
    "    def predict(self, X):\n",
    "        \"\"\"Apply the dimension reduction learned on the train data.\n",
    "\n",
    "        Parameters\n",
    "        ----------\n",
    "        X : array-like, shape = [n_samples, n_features]\n",
    "            Training vectors, where n_samples is the number of samples and\n",
    "            n_features is the number of predictors.\n",
    "\n",
    "        copy : boolean, default True\n",
    "            Whether to copy X and Y, or perform in-place normalization.\n",
    "\n",
    "        Notes\n",
    "        -----\n",
    "        This call requires the estimation of a p x q matrix, which may\n",
    "        be an issue in high dimensional space.\n",
    "        \"\"\"\n",
    "        check_is_fitted(self, 'x_mean_')\n",
    "        X = check_array(X, dtype=FLOAT_DTYPES, copy=True)\n",
    "        # Normalize\n",
    "        X -= self.x_mean_\n",
    "        X /= self.x_std_\n",
    "        X_hat = f(X, kind=self.x_kind, params=self.x_params)\n",
    "        Ypred_hat = np.dot(X_hat, self.coef_)\n",
    "        Ypred = finv(Ypred_hat, kind=self.y_kind, params=self.y_params)\n",
    "        return Ypred * self.y_std_ + self.y_mean_\n",
    "\n",
    "    def fit_transform(self, X, y=None):\n",
    "        \"\"\"Learn and apply the dimension reduction on the train data.\n",
    "\n",
    "        Parameters\n",
    "        ----------\n",
    "        X : array-like, shape = [n_samples, n_features]\n",
    "            Training vectors, where n_samples is the number of samples and\n",
    "            n_features is the number of predictors.\n",
    "\n",
    "        y : array-like, shape = [n_samples, n_targets]\n",
    "            Target vectors, where n_samples is the number of samples and\n",
    "            n_targets is the number of response variables.\n",
    "\n",
    "        Returns\n",
    "        -------\n",
    "        x_scores if Y is not given, (x_scores, y_scores) otherwise.\n",
    "        \"\"\"\n",
    "        return self.fit(X, y).transform(X, y)\n",
    "\n",
    "\n",
    "class PLSLinear(_PLS):\n",
    "    \"\"\"PLS regression\n",
    "\n",
    "    PLSRegression implements the PLS 2 blocks regression known as PLS2 or PLS1\n",
    "    in case of one dimensional response.\n",
    "    This class inherits from _PLS with mode=\"A\", deflation_mode=\"regression\",\n",
    "    norm_y_weights=False and algorithm=\"nipals\".\n",
    "\n",
    "    Parameters\n",
    "    ----------\n",
    "    n_components : int, (default 2) Number of components to keep.\n",
    "    scale : boolean, (default True) whether to scale the data\n",
    "    max_iter : an integer, (default 500) the maximum number of iterations of the NIPALS inner loop\n",
    "    tol : non-negative real Tolerance used in the iterative algorithm default 1e-06.\n",
    "    copy : boolean, default True Whether the deflation should be done on a copy. Let the default\n",
    "        value to True unless you don't care about side effect\n",
    "\n",
    "    Attributes\n",
    "    ----------\n",
    "    x_weights_ : array, [p, n_components] X block weights vectors.\n",
    "    y_weights_ : array, [q, n_components] Y block weights vectors.\n",
    "    x_loadings_ : array, [p, n_components] X block loadings vectors.\n",
    "    y_loadings_ : array, [q, n_components] Y block loadings vectors.\n",
    "    x_scores_ : array, [n_samples, n_components] X scores.\n",
    "    y_scores_ : array, [n_samples, n_components] Y scores.\n",
    "    x_rotations_ : array, [p, n_components] X block to latents rotations.\n",
    "    y_rotations_ : array, [q, n_components] Y block to latents rotations.\n",
    "    coef_ : array, [p, q] The coefficients of the linear model: ``Y = X coef_ + Err``\n",
    "    n_iter_ : array-like Number of iterations of the NIPALS inner loop for each component.\n",
    "\n",
    "    Notes\n",
    "    -----\n",
    "    Matrices::\n",
    "\n",
    "        T: x_scores_\n",
    "        U: y_scores_\n",
    "        W: x_weights_\n",
    "        C: y_weights_\n",
    "        P: x_loadings_\n",
    "        Q: y_loadings__\n",
    "\n",
    "    Are computed such that::\n",
    "\n",
    "        X = T P.T + Err and Y = U Q.T + Err\n",
    "        T[:, k] = Xk W[:, k] for k in range(n_components)\n",
    "        U[:, k] = Yk C[:, k] for k in range(n_components)\n",
    "        x_rotations_ = W (P.T W)^(-1)\n",
    "        y_rotations_ = C (Q.T C)^(-1)\n",
    "\n",
    "    where Xk and Yk are residual matrices at iteration k.\n",
    "\n",
    "    `Slides explaining\n",
    "    PLS <http://www.eigenvector.com/Docs/Wise_pls_properties.pdf>`_\n",
    "\n",
    "\n",
    "    For each component k, find weights u, v that optimizes:\n",
    "    ``max corr(Xk u, Yk v) * std(Xk u) std(Yk u)``, such that ``|u| = 1``\n",
    "\n",
    "    Note that it maximizes both the correlations between the scores and the\n",
    "    intra-block variances.\n",
    "\n",
    "    The residual matrix of X (Xk+1) block is obtained by the deflation on\n",
    "    the current X score: x_score.\n",
    "\n",
    "    The residual matrix of Y (Yk+1) block is obtained by deflation on the\n",
    "    current X score. This performs the PLS regression known as PLS2. This\n",
    "    mode is prediction oriented.\n",
    "    \"\"\"\n",
    "\n",
    "    def __init__(self, n_components=2, scale=True,\n",
    "                 max_iter=500, tol=1e-06):\n",
    "        super(PLSLinear, self).__init__(\n",
    "            n_components=n_components, scale=scale,\n",
    "            max_iter=max_iter, tol=tol, x_kind='linear', y_kind='linear')"
   ]
  },
  {
   "cell_type": "code",
   "execution_count": 3,
   "metadata": {
    "ExecuteTime": {
     "end_time": "2017-11-11T19:20:59.798470Z",
     "start_time": "2017-11-11T19:20:59.759169Z"
    },
    "collapsed": false
   },
   "outputs": [],
   "source": [
    "X = sc.io.loadmat('./../data/dataX.mat')['arr']\n",
    "Y = sc.io.loadmat('./../data/dataY.mat')['arr']\n",
    "# some daily information (5 weeks)\n",
    "X = X[:-8, :-35]\n",
    "Y = Y[8:, :-5]\n",
    "\n",
    "train_size = 700\n",
    "\n",
    "X_train, X_test = X[:train_size, :], X[train_size:, :]\n",
    "Y_train, Y_test = Y[:train_size, :], Y[train_size:, :]"
   ]
  },
  {
   "cell_type": "code",
   "execution_count": 4,
   "metadata": {
    "ExecuteTime": {
     "end_time": "2017-11-11T19:20:59.855609Z",
     "start_time": "2017-11-11T19:20:59.846456Z"
    },
    "collapsed": false
   },
   "outputs": [
    {
     "data": {
      "text/plain": [
       "((700, 168), (700, 24), (381, 168), (381, 24))"
      ]
     },
     "execution_count": 4,
     "metadata": {},
     "output_type": "execute_result"
    }
   ],
   "source": [
    "X_train.shape, Y_train.shape, X_test.shape, Y_test.shape"
   ]
  },
  {
   "cell_type": "code",
   "execution_count": 5,
   "metadata": {
    "ExecuteTime": {
     "end_time": "2017-11-11T19:20:59.994940Z",
     "start_time": "2017-11-11T19:20:59.897567Z"
    },
    "collapsed": false
   },
   "outputs": [
    {
     "data": {
      "text/plain": [
       "0.0033691168335437181"
      ]
     },
     "execution_count": 5,
     "metadata": {},
     "output_type": "execute_result"
    }
   ],
   "source": [
    "pls = PLSLinear(n_components=5)\n",
    "pls.fit(X_train, Y_train)\n",
    "Y_pred = pls.predict(X_test)\n",
    "mean_squared_error(Y_test, Y_pred)"
   ]
  },
  {
   "cell_type": "code",
   "execution_count": 6,
   "metadata": {
    "ExecuteTime": {
     "end_time": "2017-11-11T19:21:00.813498Z",
     "start_time": "2017-11-11T19:21:00.037394Z"
    },
    "collapsed": false
   },
   "outputs": [],
   "source": [
    "mse_n_comps = []\n",
    "\n",
    "for k in np.arange(1, 25):\n",
    "    pls = PLSLinear(n_components=k)\n",
    "    pls.fit(X_train, Y_train)\n",
    "    Y_pred = pls.predict(X_test)\n",
    "    mse_n_comps.append(mean_squared_error(Y_test, Y_pred))"
   ]
  },
  {
   "cell_type": "code",
   "execution_count": 7,
   "metadata": {
    "ExecuteTime": {
     "end_time": "2017-11-11T19:21:01.109082Z",
     "start_time": "2017-11-11T19:21:00.853947Z"
    },
    "collapsed": false
   },
   "outputs": [
    {
     "data": {
      "image/png": "[encoded data removed]",
      "text/plain": [
       "<matplotlib.figure.Figure at 0x110131e50>"
      ]
     },
     "metadata": {},
     "output_type": "display_data"
    }
   ],
   "source": [
    "plt.figure(figsize=(6, 4))\n",
    "plt.plot(mse_n_comps)\n",
    "plt.xlabel('Number of components')\n",
    "plt.ylabel('MSE')\n",
    "plt.show()"
   ]
  },
  {
   "cell_type": "code",
   "execution_count": 8,
   "metadata": {
    "ExecuteTime": {
     "end_time": "2017-11-11T19:21:01.158491Z",
     "start_time": "2017-11-11T19:21:01.149849Z"
    },
    "collapsed": false
   },
   "outputs": [
    {
     "data": {
      "text/plain": [
       "14"
      ]
     },
     "execution_count": 8,
     "metadata": {},
     "output_type": "execute_result"
    }
   ],
   "source": [
    "n_comp = np.array(mse_n_comps).argmin() + 1\n",
    "n_comp"
   ]
  },
  {
   "cell_type": "code",
   "execution_count": 9,
   "metadata": {
    "ExecuteTime": {
     "end_time": "2017-11-11T19:21:01.457198Z",
     "start_time": "2017-11-11T19:21:01.206899Z"
    },
    "collapsed": false
   },
   "outputs": [
    {
     "data": {
      "image/png": "[encoded data removed]",
      "text/plain": [
       "<matplotlib.figure.Figure at 0x110115c10>"
      ]
     },
     "metadata": {},
     "output_type": "display_data"
    }
   ],
   "source": [
    "pls = PLSLinear(n_components=n_comp)\n",
    "pls.fit(X_train, Y_train)\n",
    "Y_pred = pls.predict(X_test)\n",
    "\n",
    "ts_test = Y_test.ravel()\n",
    "ts_pred = Y_pred.ravel()\n",
    "\n",
    "plt.figure(figsize=(10, 6))\n",
    "plt.plot(ts_test[:300], label='Time series', c='r')\n",
    "plt.plot(ts_pred[:300], label='Prediction', c='b')\n",
    "plt.title('MSE error = {:.5f}, n_comp = {}'.format(mean_squared_error(Y_test, Y_pred), n_comp))\n",
    "plt.legend(fontsize=14)\n",
    "plt.show()"
   ]
  },
  {
   "cell_type": "markdown",
   "metadata": {
    "ExecuteTime": {
     "end_time": "2017-11-04T11:59:14.832704Z",
     "start_time": "2017-11-04T11:59:14.826100Z"
    },
    "collapsed": false
   },
   "source": [
    "### Nonlinear transformations"
   ]
  },
  {
   "cell_type": "code",
   "execution_count": 47,
   "metadata": {
    "ExecuteTime": {
     "end_time": "2017-11-11T20:02:45.243629Z",
     "start_time": "2017-11-11T20:02:45.232770Z"
    },
    "collapsed": false
   },
   "outputs": [],
   "source": [
    "def g1(x, a=0., b=1.):\n",
    "    return np.sign(x) * np.exp(a) * (np.exp(b * np.abs(x)) - 1)\n",
    "\n",
    "\n",
    "def g2(x, a=0.):\n",
    "    return np.sign(x) * np.exp(a) * np.sqrt(np.abs(x))\n",
    "\n",
    "\n",
    "def g3(x, a=0., b=1.):\n",
    "    return np.sign(x) * np.exp(a) * (np.exp(b * np.sqrt(np.abs(x))) - 1)\n",
    "\n",
    "\n",
    "def g4(x, a=0., b=1.):\n",
    "    return np.sign(x) * np.exp(a) * (np.exp(b * np.abs(x) ** (1./3)) - 1)"
   ]
  },
  {
   "cell_type": "code",
   "execution_count": 51,
   "metadata": {
    "ExecuteTime": {
     "end_time": "2017-11-11T20:04:35.971563Z",
     "start_time": "2017-11-11T20:04:35.598963Z"
    },
    "collapsed": false
   },
   "outputs": [
    {
     "data": {
      "image/png": "[encoded data removed]",
      "text/plain": [
       "<matplotlib.figure.Figure at 0x114439750>"
      ]
     },
     "metadata": {},
     "output_type": "display_data"
    }
   ],
   "source": [
    "funcs_names = ['$g_1(x)$', '$g_2(x)$', '$g_3(x)$', '$g_4(x)$']\n",
    "funcs = [g1, g2, g3, g4]\n",
    "x = np.linspace(start=-3, stop=3, num=100)\n",
    "\n",
    "plt.figure(figsize=(8, 6))\n",
    "for f, name in zip(funcs, funcs_names):\n",
    "    plt.plot(x, f(x), label=name)\n",
    "\n",
    "plt.legend(fontsize=12)\n",
    "plt.grid()\n",
    "plt.xlim([-3., 3.])\n",
    "plt.ylim([-3., 3.])\n",
    "plt.show()"
   ]
  },
  {
   "cell_type": "code",
   "execution_count": 52,
   "metadata": {
    "ExecuteTime": {
     "end_time": "2017-11-11T20:04:36.032538Z",
     "start_time": "2017-11-11T20:04:36.019688Z"
    },
    "collapsed": true
   },
   "outputs": [],
   "source": [
    "def ginv_1(y, a=0., b=1., tol=1e-9):\n",
    "    return np.sign(y) * np.log(1 + np.abs(y) * np.exp(-a)) / (b + tol)\n",
    "\n",
    "\n",
    "def ginv_2(y, a=0.):\n",
    "    return np.sign(y) * (np.exp(-a) * y) ** 2\n",
    "\n",
    "\n",
    "def ginv_3(y, a=0., b=1., tol=1e-9):\n",
    "    return np.sign(y) * (np.log(1 + np.abs(y) * np.exp(-a)) / (b + tol)) ** 2\n",
    "\n",
    "\n",
    "def ginv_4(y, a=0., b=1., tol=1e-9):\n",
    "    return np.sign(y) * (np.log(1 + np.abs(y) * np.exp(-a)) / (b + tol)) ** 3"
   ]
  },
  {
   "cell_type": "code",
   "execution_count": 53,
   "metadata": {
    "ExecuteTime": {
     "end_time": "2017-11-11T20:04:39.836481Z",
     "start_time": "2017-11-11T20:04:39.460469Z"
    },
    "collapsed": false
   },
   "outputs": [
    {
     "data": {
      "image/png": "[encoded data removed]",
      "text/plain": [
       "<matplotlib.figure.Figure at 0x114668e90>"
      ]
     },
     "metadata": {},
     "output_type": "display_data"
    }
   ],
   "source": [
    "funcs_names = ['$g^{-1}_1(y)$', '$g^{-1}_2(y)$', '$g^{-1}_3(y)$', '$g^{-1}_4(y)$']\n",
    "funcs = [ginv_1, ginv_2, ginv_3, ginv_4]\n",
    "x = np.linspace(start=-5, stop=5, num=100)\n",
    "\n",
    "plt.figure(figsize=(8, 6))\n",
    "for f, name in zip(funcs, funcs_names):\n",
    "    plt.plot(f(x), x, label=name)\n",
    "\n",
    "plt.legend(fontsize=12)\n",
    "plt.grid()\n",
    "plt.xlim([-5., 5.])\n",
    "plt.ylim([-5., 5.])\n",
    "plt.show()"
   ]
  },
  {
   "cell_type": "code",
   "execution_count": 54,
   "metadata": {
    "ExecuteTime": {
     "end_time": "2017-11-11T20:57:58.556269Z",
     "start_time": "2017-11-11T20:57:58.551388Z"
    },
    "collapsed": true
   },
   "outputs": [],
   "source": [
    "a = np.array([[1., 2.], [3., 4.]])\n",
    "b = np.zeros_like(a)"
   ]
  },
  {
   "cell_type": "code",
   "execution_count": 62,
   "metadata": {
    "ExecuteTime": {
     "end_time": "2017-11-11T21:02:03.285138Z",
     "start_time": "2017-11-11T21:02:03.275090Z"
    },
    "collapsed": false
   },
   "outputs": [
    {
     "data": {
      "text/plain": [
       "array([[ 1.,  2.],\n",
       "       [ 3.,  4.]])"
      ]
     },
     "execution_count": 62,
     "metadata": {},
     "output_type": "execute_result"
    }
   ],
   "source": []
  },
  {
   "cell_type": "code",
   "execution_count": null,
   "metadata": {
    "collapsed": true
   },
   "outputs": [],
   "source": []
  }
 ],
 "metadata": {
  "kernelspec": {
   "display_name": "Python 2",
   "language": "python",
   "name": "python2"
  },
  "language_info": {
   "codemirror_mode": {
    "name": "ipython",
    "version": 2
   },
   "file_extension": ".py",
   "mimetype": "text/x-python",
   "name": "python",
   "nbconvert_exporter": "python",
   "pygments_lexer": "ipython2",
   "version": "2.7.13"
  },
  "toc": {
   "colors": {
    "hover_highlight": "#DAA520",
    "navigate_num": "#000000",
    "navigate_text": "#333333",
    "running_highlight": "#FF0000",
    "selected_highlight": "#FFD700",
    "sidebar_border": "#EEEEEE",
    "wrapper_background": "#FFFFFF"
   },
   "moveMenuLeft": true,
   "nav_menu": {
    "height": "12px",
    "width": "252px"
   },
   "navigate_menu": true,
   "number_sections": true,
   "sideBar": true,
   "threshold": 4,
   "toc_cell": false,
   "toc_section_display": "block",
   "toc_window_display": false,
   "widenNotebook": false
  },
  "varInspector": {
   "cols": {
    "lenName": 16,
    "lenType": 16,
    "lenVar": 40
   },
   "kernels_config": {
    "python": {
     "delete_cmd_postfix": "",
     "delete_cmd_prefix": "del ",
     "library": "var_list.py",
     "varRefreshCmd": "print(var_dic_list())"
    },
    "r": {
     "delete_cmd_postfix": ") ",
     "delete_cmd_prefix": "rm(",
     "library": "var_list.r",
     "varRefreshCmd": "cat(var_dic_list()) "
    }
   },
   "types_to_exclude": [
    "module",
    "function",
    "builtin_function_or_method",
    "instance",
    "_Feature"
   ],
   "window_display": false
  }
 },
 "nbformat": 4,
 "nbformat_minor": 2
}
