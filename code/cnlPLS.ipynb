{
 "cells": [
  {
   "cell_type": "code",
   "execution_count": 117,
   "metadata": {
    "collapsed": false
   },
   "outputs": [],
   "source": [
    "pls = PLSRegression(n_components=2, scale=False)\n",
    "pls.fit(X_train, Y_train)\n",
    "Y_pred = pls.predict(X_test)"
   ]
  },
  {
   "cell_type": "code",
   "execution_count": 1,
   "metadata": {
    "collapsed": false
   },
   "outputs": [],
   "source": [
    "import numpy as np\n",
    "import matplotlib.pyplot as plt\n",
    "%matplotlib inline\n",
    "import scipy as sc\n",
    "from scipy import io\n",
    "import sklearn\n",
    "\n",
    "from sklearn.cross_decomposition import PLSRegression\n",
    "from sklearn.linear_model import LinearRegression\n",
    "from sklearn.model_selection import cross_val_score\n",
    "from sklearn.metrics import mean_squared_error, mean_absolute_error"
   ]
  },
  {
   "cell_type": "code",
   "execution_count": 2,
   "metadata": {
    "collapsed": false
   },
   "outputs": [],
   "source": [
    "X = sc.io.loadmat('../data/dataX.mat')['arr']\n",
    "Y = sc.io.loadmat('../data/dataY.mat')['arr']\n",
    "# some daily information (5 weeks)\n",
    "X = X[:-8, :-35]\n",
    "Y = Y[8:, :-5]"
   ]
  },
  {
   "cell_type": "code",
   "execution_count": 3,
   "metadata": {
    "collapsed": false
   },
   "outputs": [],
   "source": [
    "train_size = 700\n",
    "\n",
    "X_train, X_test = X[:train_size, :], X[train_size:, :]\n",
    "Y_train, Y_test = Y[:train_size, :], Y[train_size:, :]"
   ]
  },
  {
   "cell_type": "code",
   "execution_count": 16,
   "metadata": {
    "collapsed": true
   },
   "outputs": [],
   "source": [
    "def _svd_cross_product(X, Y):\n",
    "    C = np.dot(X.T, Y)\n",
    "    U, s, Vh = linalg.svd(C, full_matrices=False)\n",
    "    u = U[:, [0]]\n",
    "    v = Vh.T[:, [0]]\n",
    "    return u, v\n",
    "\n"
   ]
  },
  {
   "cell_type": "code",
   "execution_count": 17,
   "metadata": {
    "collapsed": true
   },
   "outputs": [],
   "source": [
    "def _center_scale_xy(X, Y, scale=True):\n",
    "    \"\"\" Center X, Y and scale if the scale parameter==True\n",
    "\n",
    "    Returns\n",
    "    -------\n",
    "        X, Y, x_mean, y_mean, x_std, y_std\n",
    "    \"\"\"\n",
    "    # center\n",
    "    x_mean = X.mean(axis=0)\n",
    "    X -= x_mean\n",
    "    y_mean = Y.mean(axis=0)\n",
    "    Y -= y_mean\n",
    "    # scale\n",
    "    if scale:\n",
    "        x_std = X.std(axis=0, ddof=1)\n",
    "        x_std[x_std == 0.0] = 1.0\n",
    "        X /= x_std\n",
    "        y_std = Y.std(axis=0, ddof=1)\n",
    "        y_std[y_std == 0.0] = 1.0\n",
    "        Y /= y_std\n",
    "    else:\n",
    "        x_std = np.ones(X.shape[1])\n",
    "        y_std = np.ones(Y.shape[1])\n",
    "    return X, Y, x_mean, y_mean, x_std, y_std\n",
    "\n",
    "\n"
   ]
  },
  {
   "cell_type": "code",
   "execution_count": 369,
   "metadata": {
    "collapsed": true
   },
   "outputs": [],
   "source": [
    "def grad_trans_function(name, x, parameters):\n",
    "    param_size = parameters.shape[1]\n",
    "    result = np.ones(parameters.shape)\n",
    "    eps = np.finfo(X.dtype).eps\n",
    "    n = param_size//2\n",
    "    a = parameters[:, :n]\n",
    "    c = parameters[:, n:]\n",
    "    if name=='very_fast_growth':\n",
    "        for i in np.arange(result.shape[0]):\n",
    "            for j in np.arange(n):\n",
    "                if i==j:\n",
    "                    result[i,j] = 2 * np.dot(trans_function(name, x[:, i], parameters[:, i]), \\\n",
    "                        np.sign(x[j,:]) * np.exp(a[j, :]) * (np.exp(np.exp(c[j, :]) * np.abs(x[j, :])) - 1))\n",
    "                else:\n",
    "                    result[i,j] = np.dot(trans_function(name, x[:,i], parameters[:,i]), np.sign(x[j,:]) * \\\n",
    "                            np.exp(a[j,:]) * (np.exp(np.exp(c[j,:]) * np.abs(x[j,:])) - 1))\n",
    "            for j in np.arange(n, 2*n):\n",
    "                if i==(j-n):\n",
    "                    result[i,j] = 2 * np.dot(trans_function(name, x[:,i], parameters[:,i]) * \\\n",
    "                    x[:,j] * np.exp(a[j,:] + c[j,:] + np.exp(c[j,:]) * np.abs(x[j,:])))\n",
    "                else:\n",
    "                    result[i,j] = np.dot(trans_function(name, x[:,i], parameters[:,i]),\\\n",
    "                    x[j,:] * np.exp(a[j,:] + c[j,:] + np.exp(c[j,:]) * np.abs(x[j,:])))\n",
    "        \n",
    "    return result"
   ]
  },
  {
   "cell_type": "code",
   "execution_count": 510,
   "metadata": {
    "collapsed": false
   },
   "outputs": [],
   "source": [
    "def trans_function(name, x, parameters):\n",
    "    '''\n",
    "    x - [m, n]\n",
    "    parameters - [m, 2n]\n",
    "    \n",
    "    '''\n",
    "    eps = np.finfo(X.dtype).eps\n",
    "    param_size = parameters.shape[1]\n",
    "    result = np.ones(x.shape)\n",
    "    n = param_size//2\n",
    "    a = parameters[:, :n]\n",
    "    c = parameters[:, n:]\n",
    "    if name=='very_fast_growth':\n",
    "        result = np.sign(x) * np.exp(a) * (np.exp(np.exp(c) * np.abs(x)) - 1)\n",
    "    if name=='fast_growth':\n",
    "        result = np.sign(x) * np.exp(a) * (np.exp(np.exp(c) * np.abs(x) ** (1/2)) - 1)\n",
    "    if name=='slow_growth':\n",
    "        result = np.sign(x) * np.exp(a) * (np.exp(np.exp(c) * np.abs(x) ** (1/3)) - 1)\n",
    "    if name=='slow_stabilization':\n",
    "        result = np.sign(x) * np.exp(a) * (np.exp(np.exp(c) * np.abs(x) ** (1/4)) - 1)\n",
    "    if name=='very_slow_stabilization':\n",
    "        result = np.sign(x) * np.exp(a) * (np.exp(np.exp(c) * np.abs(x) ** (2)) - 1)\n",
    "    if name=='fast_stabilization':\n",
    "        result = np.sign(x) * np.exp(a) * (np.exp(np.exp(c) * \\\n",
    "                                                  np.log(np.log(np.abs(x) + 1) + 1)) - 1)\n",
    "    if name=='sigmoid':\n",
    "        result = np.sign(x) * np.exp(a) * (np.exp(np.exp(c) * np.log(np.abs(x) + 1)) - 1)\n",
    "    if name == 'identity':\n",
    "        result = x\n",
    "    return result\n"
   ]
  },
  {
   "cell_type": "code",
   "execution_count": 529,
   "metadata": {
    "collapsed": false
   },
   "outputs": [
    {
     "data": {
      "text/plain": [
       "array([ 0.00893085,  0.00791298,  0.00796826,  0.00796448,  0.00768037,\n",
       "        0.00742615,  0.00803269,  0.00769218,  0.00792388,  0.00737094,\n",
       "        0.00763884,  0.00774395,  0.00780598,  0.00775572,  0.0073521 ,\n",
       "        0.00734414,  0.00755032,  0.00766052,  0.00800745,  0.00803407,\n",
       "        0.00750815,  0.00782946,  0.00783499,  0.00752317,  0.0074104 ,\n",
       "        0.00775451,  0.00734941,  0.007865  ,  0.00786264,  0.00770384,\n",
       "        0.00780801,  0.00778089,  0.00756493,  0.00747726,  0.00786713,\n",
       "        0.0077101 ,  0.00771685,  0.00746488,  0.00793902,  0.00747637,\n",
       "        0.00759886,  0.00790187,  0.00806782,  0.00766452,  0.00743316,\n",
       "        0.00735252,  0.00786474,  0.00753913,  0.00798601])"
      ]
     },
     "execution_count": 529,
     "metadata": {},
     "output_type": "execute_result"
    }
   ],
   "source": [
    "res_"
   ]
  },
  {
   "cell_type": "code",
   "execution_count": 530,
   "metadata": {
    "collapsed": false
   },
   "outputs": [],
   "source": [
    "def grad_trans_function(name, x, parameters):\n",
    "    param_size = parameters.shape[1]\n",
    "    result = np.ones(parameters.shape)\n",
    "    eps = np.finfo(X.dtype).eps\n",
    "    n = param_size//2\n",
    "    a = parameters[:, :n]\n",
    "    c = parameters[:, n:]\n",
    "    if name=='very_fast_growth':\n",
    "        result[:, :n] = np.sign(x) * np.exp(a) * (np.exp(np.exp(c) * np.abs(x)) - 1)\n",
    "        result[:, n:] = np.sign(x) * np.abs(x) * np.exp(a + c + np.exp(c) * np.abs(x))\n",
    "    if name=='fast_growth':\n",
    "        result[:, :n] = np.sign(x) * np.exp(a) * (np.exp(np.exp(c) * np.abs(x) ** (1/2)) - 1)\n",
    "        result[:, n:] = np.sign(x) * (np.abs(x) ** (1/2)) * np.exp(a + c + np.exp(c) * \\\n",
    "                                                                   np.abs(x) ** (1/2))\n",
    "    if name=='slow_growth':\n",
    "        result[:, :n] = np.sign(x) * np.exp(a) * (np.exp(np.exp(c) * np.abs(x) ** (1/3)) - 1)\n",
    "        result[:, n:] = np.sign(x) * (np.abs(x) ** (1/3)) * np.exp(a + c + np.exp(c) * \\\n",
    "                                                                   np.abs(x) ** (1/3))\n",
    "    if name=='slow_stabilization':\n",
    "        result[:, :n] = np.sign(x) * np.exp(a) * (np.exp(np.exp(c) * np.abs(x) ** (1/4)) - 1)\n",
    "        result[:, n:] = np.sign(x) * (np.abs(x) ** (1/4)) * np.exp(a + c + np.exp(c) * \\\n",
    "                                                                   np.abs(x) ** (1/4))\n",
    "    if name=='very_slow_stabilization':\n",
    "        result[:, :n] = np.sign(x) * np.exp(a) * (np.exp(np.exp(c) * np.abs(x) ** (2)) - 1)\n",
    "        result[:, n:] = np.sign(x) * (np.abs(x) ** (2)) * np.exp(a + c + np.exp(c) * \\\n",
    "                                                                   np.abs(x) ** (2))\n",
    "    if name=='fast_stabilization':\n",
    "        result[:, :n] = np.sign(x) * np.exp(a) * np.exp(np.exp(c) * \\\n",
    "                                                  np.log(np.log(np.abs(x) + 1) + 1) - 1)\n",
    "        result[:, n:] = np.exp(a) * np.exp(np.exp(c) * np.log(np.log(np.abs(x) + 1) + 1) - 1)*\\\n",
    "                    np.exp(c) / (np.log(np.abs(x) + 1) + 1)  / np.abs(x) + 1\n",
    "    if name=='sigmoid':\n",
    "        result[:, :n] = np.sign(x) * np.exp(a) * (np.exp(np.exp(c) * np.abs(x)) - 1)\n",
    "        result[:, n:] = np.sign(x) * np.log(np.abs(x) + 1) * np.exp(a + c + np.exp(c) * \\\n",
    "                                                                   np.log(np.abs(x) + 1))\n",
    "    if name == 'identity':\n",
    "        result = 1\n",
    "    return result"
   ]
  },
  {
   "cell_type": "code",
   "execution_count": 514,
   "metadata": {
    "collapsed": true
   },
   "outputs": [],
   "source": [
    "def inverse_trans_function(name, y, parameters):\n",
    "    eps = np.finfo(X.dtype).eps\n",
    "    param_size = parameters.shape[1]\n",
    "    result = np.ones(y.shape)\n",
    "    n = param_size//2\n",
    "    a = parameters[:, :n]\n",
    "    c = parameters[:, n:]\n",
    "    if name=='very_fast_growth':\n",
    "        result = np.sign(y) * (np.exp(-c) * np.log(np.abs(y) * np.exp(-a) + 1))\n",
    "    if name=='fast_growth':\n",
    "        result = np.sign(y) * (np.exp(-c) * np.log(np.abs(y) * np.exp(-a) + 1)) ** 2\n",
    "    if name=='slow_growth':\n",
    "        result = np.sign(y) * (np.exp(-c) * np.log(np.abs(y) * np.exp(-a) + 1)) ** 3\n",
    "    if name=='slow_stabilization':\n",
    "        result = np.sign(y) * (np.exp(-c) * np.log(np.abs(y) * np.exp(-a) + 1)) ** 4\n",
    "    if name=='very_slow_stabilization':\n",
    "        result = np.sign(y) * (np.exp(-c) * np.log(np.abs(y) * np.exp(-a) + 1)) ** (1/2)\n",
    "    if name=='fast_stabilization':\n",
    "        result = np.sign(y) * (np.exp(np.exp(np.exp(-c) * np.log(np.abs(y) * \\\n",
    "                                                                 np.exp(-a) + 1)) - 1) - 1)\n",
    "    if name=='sigmoid':\n",
    "        result = np.sign(y) * (np.exp(np.exp(-c) * np.log(np.abs(y) * np.exp(-a) + 1)) - 1)\n",
    "    if name == 'identity':\n",
    "        result = y\n",
    "    return result"
   ]
  },
  {
   "cell_type": "code",
   "execution_count": 281,
   "metadata": {
    "collapsed": false
   },
   "outputs": [],
   "source": [
    "def _nipals_twoblocks_inner_loop(X, Y, mode=\"A\", max_iter=500, tol=1e-06,\n",
    "                                 norm_y_weights=False, trans_function_name=None, trans_parameters=None):\n",
    "    \"\"\"Inner loop of the iterative NIPALS algorithm.\n",
    "    Provides an alternative to the svd(X'Y); returns the first left and right\n",
    "    singular vectors of X'Y.  See PLS for the meaning of the parameters.  It is\n",
    "    similar to the Power method for determining the eigenvectors and\n",
    "    eigenvalues of a X'Y.\n",
    "    \"\"\"\n",
    "    # ИНИЦИАЛИЗАЦИЯ \n",
    "    # y_score = Y[:, [0]]\n",
    "    y_score_old = trans_function(trans_function_name, Y, trans_parameters)[:, [0]]\n",
    "    x_weights_old = 0\n",
    "    ite = 1\n",
    "    eps = np.finfo(X.dtype).eps\n",
    "    # Inner loop of the Wold algo.\n",
    "    while True:\n",
    "        # 1.1 Update u: the X weights\n",
    "        # Mode A regress each X column on y_score\n",
    "        #1. COMPUTE w\n",
    "        x_weights = np.dot(X.T, y_score_old) / np.dot(y_score_old.T, y_score_old)\n",
    "        # If y_score only has zeros x_weights will only have zeros. In\n",
    "        # this case add an epsilon to converge to a more acceptable\n",
    "        # solution\n",
    "        if np.dot(x_weights.T, x_weights) < eps:\n",
    "            x_weights += eps\n",
    "        # 1.2 Normalize u\n",
    "        x_weights /= (np.sqrt(np.dot(x_weights.T, x_weights)) + eps)\n",
    "        # 1.3 Update x_score: the X latenдt scores\n",
    "        #2. COMPUTE t\n",
    "        x_score = np.dot(X, x_weights)\n",
    "        # 2.1 Update y_weights\n",
    "        # Mode A regress each Y column on x_score\n",
    "        #2. COMPUTE tilde Y\n",
    "        y_tilde = trans_function(trans_function_name, Y, trans_parameters)\n",
    "        # 2.1 Update y_weights\n",
    "        # Mode A regress each Y column on x_score\n",
    "        #3. COMPUTE c\n",
    "        y_weights = np.dot(y_tilde.T, x_score) / np.dot(x_score.T, x_score)\n",
    "        # 2.2 Normalize y_weights\n",
    "        if norm_y_weights:\n",
    "            y_weights /= np.sqrt(np.dot(y_weights.T, y_weights)) + eps\n",
    "        # 2.3 Update y_score: the Y latent scores\n",
    "        #4. COMPUTE u\n",
    "        y_score = np.dot(y_tilde, y_weights) / (np.dot(y_weights.T, y_weights) + eps)\n",
    "        # COMPUTE v\n",
    "        y_score_diff = y_score - y_score_old\n",
    "        jakobian = grad_trans_function(trans_function_name, Y, trans_parameters)\n",
    "#         print(np.max(np.isnan(jakobian)))\n",
    "        delta_trans_parameters = np.dot(np.dot(linalg.inv(np.dot(jakobian.T, jakobian)),\\\n",
    "                                        jakobian.T), y_score_diff)\n",
    "        trans_parameters += delta_trans_parameters.T\n",
    "        trans_parameters /= np.expand_dims((np.sum(np.square(trans_parameters), axis = 1) + eps), axis = 1)\n",
    "        # COVERGENCE t\n",
    "        x_weights_diff = x_weights - x_weights_old\n",
    "        if np.dot(x_weights_diff.T, x_weights_diff) < tol or Y.shape[1] == 1:\n",
    "            break\n",
    "        if ite == max_iter:\n",
    "            warnings.warn('Maximum number of iterations reached')\n",
    "            break\n",
    "        x_weights_old = x_weights\n",
    "        ite += 1\n",
    "    return x_weights, y_weights, trans_parameters, y_tilde, ite"
   ]
  },
  {
   "cell_type": "code",
   "execution_count": 282,
   "metadata": {
    "collapsed": false
   },
   "outputs": [],
   "source": [
    "from distutils.version import LooseVersion\n",
    "from sklearn.utils.extmath import svd_flip\n",
    "\n",
    "from sklearn.base import BaseEstimator, RegressorMixin, TransformerMixin\n",
    "from sklearn.utils import check_array, check_consistent_length\n",
    "from sklearn.externals import six\n",
    "\n",
    "import warnings\n",
    "from abc import ABCMeta, abstractmethod\n",
    "import numpy as np\n",
    "from scipy import linalg\n",
    "from sklearn.utils import arpack\n",
    "from sklearn.utils.validation import check_is_fitted, FLOAT_DTYPES\n",
    "\n",
    "__all__ = ['PLSRegression']\n",
    "\n",
    "import scipy\n",
    "pinv2_args = {}\n",
    "if LooseVersion(scipy.__version__) >= LooseVersion('0.12'):\n",
    "    # check_finite=False is an optimization available only in scipy >=0.12\n",
    "    pinv2_args = {'check_finite': False}\n",
    "\n",
    "\n",
    "class _PLS(six.with_metaclass(ABCMeta), BaseEstimator, TransformerMixin,\n",
    "           RegressorMixin):\n",
    "    \"\"\"\n",
    "    Partial Least Squares (PLS)\n",
    "    \n",
    "    \"\"\"\n",
    "\n",
    "    @abstractmethod\n",
    "    def __init__(self, n_components=2, scale=True, deflation_mode=\"regression\",\\\n",
    "                 mode=\"A\", algorithm=\"nipals\", trans_function_name=None, trans_parameters=None,\\\n",
    "                 norm_y_weights=False, max_iter=500, tol=1e-06, copy=True):\n",
    "        self.n_components = n_components\n",
    "        self.deflation_mode = deflation_mode\n",
    "        self.mode = mode\n",
    "        self.norm_y_weights = norm_y_weights\n",
    "        self.scale = scale\n",
    "        self.algorithm = algorithm\n",
    "        self.max_iter = max_iter\n",
    "        self.tol = tol\n",
    "        self.copy = copy\n",
    "        self.trans_function_name = trans_function_name\n",
    "        self.trans_parameters = trans_parameters\n",
    "        \n",
    "\n",
    "    def fit(self, X, Y):\n",
    "        \"\"\"\n",
    "        Fit model to data.\n",
    "        \n",
    "        \"\"\"\n",
    "\n",
    "        # copy since this will contains the residuals (deflated) matrices\n",
    "        check_consistent_length(X, Y)\n",
    "        X = check_array(X, dtype=np.float64, copy=self.copy)\n",
    "        Y = check_array(Y, dtype=np.float64, copy=self.copy, ensure_2d=False)\n",
    "        if Y.ndim == 1:\n",
    "            Y = Y.reshape(-1, 1)\n",
    "\n",
    "        n = X.shape[0]\n",
    "        p = X.shape[1]\n",
    "        q = Y.shape[1]\n",
    "\n",
    "        if self.n_components < 1 or self.n_components > p:\n",
    "            raise ValueError('Invalid number of components: %d' %\n",
    "                             self.n_components)\n",
    "        if self.algorithm not in (\"svd\", \"nipals\"):\n",
    "            raise ValueError(\"Got algorithm %s when only 'svd' \"\n",
    "                             \"and 'nipals' are known\" % self.algorithm)\n",
    "        if self.algorithm == \"svd\" and self.mode == \"B\":\n",
    "            raise ValueError('Incompatible configuration: mode B is not '\n",
    "                             'implemented with svd algorithm')\n",
    "        if self.deflation_mode not in [\"canonical\", \"regression\"]:\n",
    "            raise ValueError('The deflation mode is unknown')\n",
    "        # Scale (in place)\n",
    "        X, Y, self.x_mean_, self.y_mean_, self.x_std_, self.y_std_ = (\n",
    "            _center_scale_xy(X, Y, self.scale))\n",
    "        # Residuals (deflated) matrices\n",
    "        Xk = X\n",
    "        Yk = Y\n",
    "        # Results matrices\n",
    "        self.x_scores_ = np.zeros((n, self.n_components))\n",
    "        self.y_scores_ = np.zeros((n, self.n_components))\n",
    "        self.x_weights_ = np.zeros((p, self.n_components))\n",
    "        self.y_weights_ = np.zeros((q, self.n_components))\n",
    "        self.x_loadings_ = np.zeros((p, self.n_components))\n",
    "        self.y_loadings_ = np.zeros((q, self.n_components))\n",
    "        self.n_iter_ = []\n",
    "\n",
    "        trans_parameters = np.ones([Y.shape[0], Y.shape[1]*2])*np.random.randn()\n",
    "#         y_tilde = trans_function(self.trans_function_name, Y, trans_parameters)\n",
    "        \n",
    "        # NIPALS algo: outer loop, over components\n",
    "        for k in range(self.n_components):\n",
    "            if np.all(np.dot(Yk.T, Yk) < np.finfo(np.double).eps):\n",
    "                # Yk constant\n",
    "                warnings.warn('Y residual constant at iteration %s' % k)\n",
    "                break\n",
    "            # 1) weights estimation (inner loop)\n",
    "            # -----------------------------------\n",
    "            if self.algorithm == \"nipals\":\n",
    "                x_weights, y_weights, trans_parameters, y_tilde, n_iter_ = \\\n",
    "                    _nipals_twoblocks_inner_loop(\\\n",
    "                             X=Xk, Y=Yk, mode=self.mode, max_iter=self.max_iter,\\\n",
    "                             tol=self.tol, norm_y_weights=self.norm_y_weights,\\\n",
    "                             trans_function_name=self.trans_function_name,\\\n",
    "                             trans_parameters=trans_parameters)\n",
    "                self.n_iter_.append(n_iter_)\n",
    "            elif self.algorithm == \"svd\":\n",
    "                x_weights, y_weights = _svd_cross_product(X=Xk, Y=Yk)\n",
    "            # Forces sign stability of x_weights and y_weights\n",
    "            # Sign undeterminacy issue from svd if algorithm == \"svd\"\n",
    "            # and from platform dependent computation if algorithm == 'nipals'\n",
    "            x_weights, y_weights = svd_flip(x_weights, y_weights.T)\n",
    "            y_weights = y_weights.T\n",
    "            # compute scores\n",
    "            x_scores = np.dot(Xk, x_weights)\n",
    "            if self.norm_y_weights:\n",
    "                y_ss = 1\n",
    "            else:\n",
    "                y_ss = np.dot(y_weights.T, y_weights) + np.finfo(np.double).eps\n",
    "            y_scores = np.dot(y_tilde, y_weights) / y_ss\n",
    "            # test for null variance\n",
    "            if np.dot(x_scores.T, x_scores) < np.finfo(np.double).eps:\n",
    "                warnings.warn('X scores are null at iteration %s' % k)\n",
    "                break\n",
    "            # 2) Deflation (in place)\n",
    "            # - regress Xk's on x_score\n",
    "            x_loadings = np.dot(Xk.T, x_scores) / (np.dot(x_scores.T, x_scores) + \\\n",
    "                                                   np.finfo(np.double).eps)\n",
    "            # - subtract rank-one approximations to obtain remainder matrix\n",
    "            Xk -= np.dot(x_scores, x_loadings.T)\n",
    "# TO THINK HOW TO CHANGE TILDE Y\n",
    "            if self.deflation_mode == \"canonical\":\n",
    "                # - regress Yk's on y_score, then subtract rank-one approx.\n",
    "                y_loadings = (np.dot(Yk.T, y_scores)\n",
    "                              / np.dot(y_scores.T, y_scores))\n",
    "                y_tilde -= np.dot(y_scores, y_loadings.T)\n",
    "                Yk = inverse_trans_function(self.trans_function_name, y_tilde, trans_parameters)\n",
    "            if self.deflation_mode == \"regression\":\n",
    "                # - regress Yk's on x_score, then subtract rank-one approx.\n",
    "                y_loadings = (np.dot(Yk.T, x_scores)\n",
    "                              / np.dot(x_scores.T, x_scores))\n",
    "                y_tilde -= np.dot(y_scores, y_loadings.T) #регрессия на \\tilde{Y}\n",
    "                # COMPUTE Yk AND INVERSE\n",
    "                Yk = inverse_trans_function(self.trans_function_name, y_tilde, trans_parameters)\n",
    "            # 3) Store weights, scores and loadings # Notation:\n",
    "            self.x_scores_[:, k] = x_scores.ravel()  # T\n",
    "            self.y_scores_[:, k] = y_scores.ravel()  # U\n",
    "            self.x_weights_[:, k] = x_weights.ravel()  # W\n",
    "            self.y_weights_[:, k] = y_weights.ravel()  # C\n",
    "            self.x_loadings_[:, k] = x_loadings.ravel()  # P\n",
    "            self.y_loadings_[:, k] = y_loadings.ravel()  # Q\n",
    "        # Such that: X = TP' + Err and Y = UQ' + Err\n",
    "\n",
    "        # 4) rotations from input space to transformed space (scores)\n",
    "        # T = X W(P'W)^-1 = XW* (W* : p x k matrix)\n",
    "        # U = Y C(Q'C)^-1 = YC* (W* : q x k matrix)\n",
    "        self.x_rotations_ = np.dot(\n",
    "            self.x_weights_,\n",
    "            linalg.pinv2(np.dot(self.x_loadings_.T, self.x_weights_),\n",
    "                         **pinv2_args))\n",
    "        if Y.shape[1] > 1:\n",
    "            self.y_rotations_ = np.dot(\n",
    "                self.y_weights_,\n",
    "                linalg.pinv2(np.dot(self.y_loadings_.T, self.y_weights_),\n",
    "                             **pinv2_args))\n",
    "        else:\n",
    "            self.y_rotations_ = np.ones(1)\n",
    "\n",
    "        if True or self.deflation_mode == \"regression\":\n",
    "            # FIXME what's with the if?\n",
    "            # Estimate regression coefficient\n",
    "            # Regress Y on T\n",
    "            # Y = TQ' + Err,\n",
    "            # Then express in function of X\n",
    "            # Y = X W(P'W)^-1Q' + Err = XB + Err\n",
    "            # => B = W*Q' (p x q)\n",
    "            self.coef_ = np.dot(self.x_rotations_, self.y_loadings_.T)\n",
    "            self.coef_ = (1. / self.x_std_.reshape((p, 1)) * self.coef_ *\n",
    "                          self.y_std_)\n",
    "        self.trans_parameters = trans_parameters\n",
    "        return self\n",
    "\n",
    "    def transform(self, X, Y=None, copy=True):\n",
    "        \"\"\"Apply the dimension reduction learned on the train data.\n",
    "\n",
    "        x_scores if Y is not given, (x_scores, y_scores) otherwise.\n",
    "        \"\"\"\n",
    "        check_is_fitted(self, 'x_mean_')\n",
    "        X = check_array(X, copy=copy, dtype=FLOAT_DTYPES)\n",
    "        # Normalize\n",
    "        X -= self.x_mean_\n",
    "        X /= self.x_std_\n",
    "        # Apply rotation\n",
    "        x_scores = np.dot(X, self.x_rotations_)\n",
    "        if Y is not None:\n",
    "            Y = check_array(Y, ensure_2d=False, copy=copy, dtype=FLOAT_DTYPES)\n",
    "            if Y.ndim == 1:\n",
    "                Y = Y.reshape(-1, 1)\n",
    "# G?\n",
    "            Y -= self.y_mean_\n",
    "            Y /= self.y_std_\n",
    "# MB TILDE Y\n",
    "            y_scores = np.dot(Y, self.y_rotations_)\n",
    "            return x_scores, y_scores\n",
    "\n",
    "        return x_scores\n",
    "\n",
    "    def predict(self, X, copy=True):\n",
    "        \"\"\"Apply the dimension reduction learned on the train data.\n",
    "        \n",
    "        This call requires the estimation of a p x q matrix, which may\n",
    "        be an issue in high dimensional space.\n",
    "        \"\"\"\n",
    "        check_is_fitted(self, 'x_mean_')\n",
    "        X = check_array(X, copy=copy, dtype=FLOAT_DTYPES)\n",
    "        # Normalize\n",
    "        X -= self.x_mean_\n",
    "        X /= self.x_std_\n",
    "        Ypred = np.dot(X, self.coef_)\n",
    "        return Ypred + self.y_mean_\n",
    "\n",
    "    def fit_transform(self, X, y=None, **fit_params):\n",
    "        \"\"\"\n",
    "        Learn and apply the dimension reduction on the train data.\n",
    "\n",
    "        x_scores if Y is not given, (x_scores, y_scores) otherwise.\n",
    "        \"\"\"\n",
    "        return self.fit(X, y, **fit_params).transform(X, y)\n",
    "\n",
    "\n",
    "class PLSRegression(_PLS):\n",
    "    \"\"\"\n",
    "    PLS regression\n",
    "    \"\"\"\n",
    "\n",
    "    def __init__(self, n_components=2, scale=True, max_iter=500, tol=1e-06, copy=True, trans_function_name=None):\n",
    "        super(PLSRegression, self).__init__(\n",
    "            n_components=n_components, scale=scale,\n",
    "            deflation_mode=\"regression\", mode=\"A\", trans_function_name=trans_function_name,\n",
    "            norm_y_weights=False, max_iter=max_iter, tol=tol, copy=copy)\n"
   ]
  },
  {
   "cell_type": "code",
   "execution_count": 438,
   "metadata": {
    "collapsed": false
   },
   "outputs": [],
   "source": [
    "def bezier(x, t):\n",
    "    t_masked = np.ma.masked_where((t == 0) + (t == 1), t)\n",
    "    n = len(x) - 1\n",
    "    res = np.zeros_like(t_masked)\n",
    "    log_i = np.log(np.arange(1, n + 1))\n",
    "    log_t = np.ma.log(t_masked)\n",
    "    log_1_t = np.ma.log(1 - t_masked)\n",
    "    for i in range(n + 1):\n",
    "        M = np.max([i, n - i])\n",
    "        m = np.min([i, n - i])\n",
    "        res = res + x[i] * (np.exp(np.sum(log_i[M:]) - np.sum(log_i[:m]) + i * log_t + (n - i) * log_1_t))\n",
    "    res.filled(x)\n",
    "    return res"
   ]
  },
  {
   "cell_type": "code",
   "execution_count": 538,
   "metadata": {
    "collapsed": false
   },
   "outputs": [
    {
     "data": {
      "text/plain": [
       "<matplotlib.text.Text at 0x119ea15c0>"
      ]
     },
     "execution_count": 538,
     "metadata": {},
     "output_type": "execute_result"
    },
    {
     "data": {
      "image/png": "[encoded data removed]",
      "text/plain": [
       "<matplotlib.figure.Figure at 0x118336ef0>"
      ]
     },
     "metadata": {},
     "output_type": "display_data"
    }
   ],
   "source": [
    "res_x_1_3 = np.arange(1, 50, dtype = float)\n",
    "for k in np.arange(1, 50):\n",
    "    pls = PLSRegression(n_components=k, scale=False, trans_function_name='slow_growth')\n",
    "    pls.fit(X_train, Y_train)\n",
    "    Y_pred = pls.predict(X_test)\n",
    "    res_x_1_3[k - 1] = mean_squared_error(Y_test, Y_pred)\n",
    "#     print(res[k-1])\n",
    "plt.plot(res_x_1_3)\n",
    "plt.xlabel('Число компонент')\n",
    "plt.ylabel('MSE')"
   ]
  },
  {
   "cell_type": "code",
   "execution_count": 539,
   "metadata": {
    "collapsed": false
   },
   "outputs": [
    {
     "data": {
      "text/plain": [
       "array([ 0.00912176,  0.00683026,  0.00572403,  0.0057394 ,  0.00465942,\n",
       "        0.00624504,  0.00424515,  0.00419037,  0.00599412,  0.00441522,\n",
       "        0.00413193,  0.00374181,  0.00365126,  0.00359121,  0.00369873,\n",
       "        0.00532045,  0.00581169,  0.0053997 ,  0.00338914,  0.00356756,\n",
       "        0.00518819,  0.00361403,  0.00350797,  0.00362996,  0.00526941,\n",
       "        0.00388783,  0.00538841,  0.00353375,  0.00527147,  0.00381153,\n",
       "        0.00543514,  0.00547525,  0.00541189,  0.00519664,  0.00348258,\n",
       "        0.00545128,  0.00365896,  0.00536263,  0.00352003,  0.00361817,\n",
       "        0.00355959,  0.0053481 ,  0.0051711 ,  0.00334365,  0.00317648,\n",
       "        0.00343762,  0.00525835,  0.00317572,  0.00520006])"
      ]
     },
     "execution_count": 539,
     "metadata": {},
     "output_type": "execute_result"
    }
   ],
   "source": [
    "res_x_1_3"
   ]
  },
  {
   "cell_type": "code",
   "execution_count": 522,
   "metadata": {
    "collapsed": false
   },
   "outputs": [],
   "source": [
    "res7 = bezier(res_very_slow, np.arange(len(res_very_slow)) / len(res_very_slow))"
   ]
  },
  {
   "cell_type": "code",
   "execution_count": 532,
   "metadata": {
    "collapsed": false
   },
   "outputs": [
    {
     "data": {
      "text/plain": [
       "<matplotlib.text.Text at 0x1179c3208>"
      ]
     },
     "execution_count": 532,
     "metadata": {},
     "output_type": "execute_result"
    },
    {
     "data": {
      "image/png": "[encoded data removed]",
      "text/plain": [
       "<matplotlib.figure.Figure at 0x1192619b0>"
      ]
     },
     "metadata": {},
     "output_type": "display_data"
    }
   ],
   "source": [
    "res_x_2 = np.zeros((29,))\n",
    "for k in np.arange(1, 30):\n",
    "    pls = PLSRegression(n_components=k, scale=False, trans_function_name='sigmoid')\n",
    "    pls.fit(X_train, Y_train)\n",
    "    Y_pred = pls.predict(X_test)\n",
    "    res_x_2[k - 1] = mean_squared_error(Y_test, Y_pred)\n",
    "#     print(res[k-1])\n",
    "plt.plot(res_x_2)\n",
    "plt.xlabel('Число компонент')\n",
    "plt.ylabel('MSE')\n",
    "# plt.savefig('exp_x_1_5', transparent=True)"
   ]
  },
  {
   "cell_type": "code",
   "execution_count": 533,
   "metadata": {
    "collapsed": false
   },
   "outputs": [
    {
     "data": {
      "text/plain": [
       "array([ 0.00892772,  0.00827464,  0.00816653,  0.0080019 ,  0.00798951,\n",
       "        0.00775344,  0.00797576,  0.00796698,  0.007752  ,  0.00796778,\n",
       "        0.00775093,  0.00772045,  0.00774262,  0.00771861,  0.00775703,\n",
       "        0.00796676,  0.00795302,  0.0077049 ,  0.00795553,  0.00796378,\n",
       "        0.00795067,  0.0079524 ,  0.00794883,  0.0077034 ,  0.00793104,\n",
       "        0.00795339,  0.00796177,  0.00796744,  0.00794974])"
      ]
     },
     "execution_count": 533,
     "metadata": {},
     "output_type": "execute_result"
    }
   ],
   "source": [
    "res_x_2"
   ]
  },
  {
   "cell_type": "code",
   "execution_count": 496,
   "metadata": {
    "collapsed": false
   },
   "outputs": [
    {
     "data": {
      "text/plain": [
       "0.0046949661373425376"
      ]
     },
     "execution_count": 496,
     "metadata": {},
     "output_type": "execute_result"
    }
   ],
   "source": [
    "pls = PLSRegression(n_components=4, scale=False, trans_function_name='very_slow_stabilization')\n",
    "pls.fit(X_train, Y_train)\n",
    "Y_pred = pls.predict(X_test)\n",
    "res_5 = mean_squared_error(Y_test, Y_pred)\n",
    "res_5"
   ]
  },
  {
   "cell_type": "code",
   "execution_count": 498,
   "metadata": {
    "collapsed": true
   },
   "outputs": [],
   "source": [
    "res4 = bezier(res_x_1_5, np.arange(len(res_x_1_5)) / len(res_x_1_5))"
   ]
  },
  {
   "cell_type": "code",
   "execution_count": 470,
   "metadata": {
    "collapsed": true
   },
   "outputs": [],
   "source": [
    "res3 = bezier(res_x_1_4, np.arange(len(res_x_1_4)) / len(res_x_1_4))"
   ]
  },
  {
   "cell_type": "code",
   "execution_count": 465,
   "metadata": {
    "collapsed": false
   },
   "outputs": [],
   "source": [
    "res1 = bezier(res, np.arange(len(res)) / len(res))"
   ]
  },
  {
   "cell_type": "code",
   "execution_count": 523,
   "metadata": {
    "collapsed": false
   },
   "outputs": [
    {
     "data": {
      "image/png": "[encoded data removed]",
      "text/plain": [
       "<matplotlib.figure.Figure at 0x1183b7d68>"
      ]
     },
     "metadata": {},
     "output_type": "display_data"
    }
   ],
   "source": [
    "plt.plot(res7)\n",
    "plt.xlabel('Число компонент')\n",
    "plt.ylabel('MSE')\n",
    "plt.savefig('exp_x_2', transparent=True)"
   ]
  },
  {
   "cell_type": "code",
   "execution_count": 196,
   "metadata": {
    "collapsed": false
   },
   "outputs": [
    {
     "data": {
      "text/plain": [
       "PLSRegression(copy=True, max_iter=500, n_components=3, scale=False, tol=1e-06,\n",
       "       trans_function_name='very_fast_growth')"
      ]
     },
     "execution_count": 196,
     "metadata": {},
     "output_type": "execute_result"
    }
   ],
   "source": [
    "pls.fit(X_train, Y_train)"
   ]
  },
  {
   "cell_type": "code",
   "execution_count": 197,
   "metadata": {
    "collapsed": true
   },
   "outputs": [],
   "source": [
    "Y_pred = pls.predict(X_test)"
   ]
  },
  {
   "cell_type": "code",
   "execution_count": 198,
   "metadata": {
    "collapsed": false
   },
   "outputs": [
    {
     "name": "stdout",
     "output_type": "stream",
     "text": [
      "0.00720046360813\n"
     ]
    }
   ],
   "source": [
    "print(mean_squared_error(Y_test, Y_pred))"
   ]
  },
  {
   "cell_type": "code",
   "execution_count": 182,
   "metadata": {
    "collapsed": false
   },
   "outputs": [
    {
     "data": {
      "image/png": "[encoded data removed]",
      "text/plain": [
       "<matplotlib.figure.Figure at 0x116eeffd0>"
      ]
     },
     "metadata": {},
     "output_type": "display_data"
    }
   ],
   "source": [
    "ts_test = Y_test.ravel()\n",
    "ts_pred = Y_pred.ravel()\n",
    "\n",
    "plt.figure(figsize=(12, 8))\n",
    "plt.plot(ts_test[:300], label='Time series')\n",
    "plt.plot(ts_pred[:300], label='Prediction')\n",
    "plt.legend(fontsize=14)\n",
    "plt.show()"
   ]
  },
  {
   "cell_type": "code",
   "execution_count": 300,
   "metadata": {
    "collapsed": false
   },
   "outputs": [
    {
     "name": "stdout",
     "output_type": "stream",
     "text": [
      "(993793,) (993793,) (116495,)\n"
     ]
    }
   ],
   "source": [
    "data_ch1 = sc.io.loadmat('../data/data_mat/ECoG_ch1.mat')['ECoGData_ch1'][0]\n",
    "time = sc.io.loadmat('../data/data_mat/ECoG_time.mat')['ECoGTime'][0]\n",
    "motion = sc.io.loadmat('../data/data_mat/Motion.mat')['MotionTime'][0]\n",
    "print(data_ch1.shape, time.shape, motion.shape)\n",
    "data_ch1 = data_ch1[:10000]"
   ]
  },
  {
   "cell_type": "code",
   "execution_count": 302,
   "metadata": {
    "collapsed": true
   },
   "outputs": [],
   "source": [
    "data_32 = sc.io.loadmat('../data/32_channels_template.mat')"
   ]
  },
  {
   "cell_type": "code",
   "execution_count": 368,
   "metadata": {
    "collapsed": false
   },
   "outputs": [
    {
     "data": {
      "text/plain": [
       "array([3, 8])"
      ]
     },
     "execution_count": 368,
     "metadata": {},
     "output_type": "execute_result"
    }
   ],
   "source": [
    "A = np.array([1, 2])* np.array([3, 4])\n",
    "A"
   ]
  },
  {
   "cell_type": "code",
   "execution_count": 364,
   "metadata": {
    "collapsed": false
   },
   "outputs": [
    {
     "ename": "TypeError",
     "evalue": "tuple indices must be integers or slices, not tuple",
     "output_type": "error",
     "traceback": [
      "\u001b[0;31m---------------------------------------------------------------------------\u001b[0m",
      "\u001b[0;31mTypeError\u001b[0m                                 Traceback (most recent call last)",
      "\u001b[0;32m<ipython-input-364-9f5bb8cfc74d>\u001b[0m in \u001b[0;36m<module>\u001b[0;34m()\u001b[0m\n\u001b[0;32m----> 1\u001b[0;31m \u001b[0mA\u001b[0m\u001b[0;34m[\u001b[0m\u001b[0;34m:\u001b[0m\u001b[0;34m,\u001b[0m\u001b[0;36m1\u001b[0m\u001b[0;34m]\u001b[0m\u001b[0;34m\u001b[0m\u001b[0m\n\u001b[0m",
      "\u001b[0;31mTypeError\u001b[0m: tuple indices must be integers or slices, not tuple"
     ]
    }
   ],
   "source": [
    "A[:,1]"
   ]
  },
  {
   "cell_type": "code",
   "execution_count": 345,
   "metadata": {
    "collapsed": false
   },
   "outputs": [
    {
     "data": {
      "text/plain": [
       "array([0, 1, 2])"
      ]
     },
     "execution_count": 345,
     "metadata": {},
     "output_type": "execute_result"
    }
   ],
   "source": [
    "np.arange(3)"
   ]
  },
  {
   "cell_type": "code",
   "execution_count": 288,
   "metadata": {
    "collapsed": true
   },
   "outputs": [],
   "source": [
    "n_features = 2500\n",
    "n_pred = 4\n",
    "length = len(data_ch1)\n",
    "n_objects = length - n_features - n_pred\n",
    "X = np.zeros([n_objects, n_features])\n",
    "Y = np.zeros([n_objects, n_pred])\n",
    "\n",
    "for i in range(n_objects):\n",
    "    X[i, :] = data_ch1[i:i + n_features]\n",
    "    Y[i, :] = data_ch1[i + n_features: i + n_features + n_pred]"
   ]
  },
  {
   "cell_type": "code",
   "execution_count": 289,
   "metadata": {
    "collapsed": false
   },
   "outputs": [],
   "source": [
    "X_train, X_test = X[:700, :], X[700:, :]\n",
    "Y_train, Y_test = Y[:700, :], Y[700:, :]"
   ]
  },
  {
   "cell_type": "code",
   "execution_count": 290,
   "metadata": {
    "collapsed": false
   },
   "outputs": [],
   "source": [
    "pls = PLSRegression(n_components=2, scale=False, trans_function_name='very_fast_growth')\n",
    "pls.fit(X_train, Y_train)\n",
    "Y_pred = pls.predict(X_test)"
   ]
  },
  {
   "cell_type": "code",
   "execution_count": 291,
   "metadata": {
    "collapsed": false
   },
   "outputs": [
    {
     "name": "stdout",
     "output_type": "stream",
     "text": [
      "557.156792413\n"
     ]
    }
   ],
   "source": [
    "print(mean_squared_error(Y_test, Y_pred))"
   ]
  },
  {
   "cell_type": "code",
   "execution_count": 292,
   "metadata": {
    "collapsed": false
   },
   "outputs": [
    {
     "name": "stdout",
     "output_type": "stream",
     "text": [
      "1\n",
      "2\n",
      "3\n"
     ]
    },
    {
     "name": "stderr",
     "output_type": "stream",
     "text": [
      "/Users/m/anaconda/lib/python3.6/site-packages/ipykernel/__main__.py:96: UserWarning: Y residual constant at iteration 1\n"
     ]
    },
    {
     "name": "stdout",
     "output_type": "stream",
     "text": [
      "4\n",
      "5\n",
      "6\n",
      "7\n"
     ]
    },
    {
     "name": "stderr",
     "output_type": "stream",
     "text": [
      "/Users/m/anaconda/lib/python3.6/site-packages/ipykernel/__main__.py:119: UserWarning: X scores are null at iteration 4\n"
     ]
    },
    {
     "name": "stdout",
     "output_type": "stream",
     "text": [
      "8\n"
     ]
    },
    {
     "data": {
      "text/plain": [
       "[<matplotlib.lines.Line2D at 0x11679e7b8>]"
      ]
     },
     "execution_count": 292,
     "metadata": {},
     "output_type": "execute_result"
    },
    {
     "data": {
      "image/png": "[encoded data removed]",
      "text/plain": [
       "<matplotlib.figure.Figure at 0x11640b710>"
      ]
     },
     "metadata": {},
     "output_type": "display_data"
    }
   ],
   "source": [
    "res = np.arange(1, 9, dtype = float)\n",
    "for k in np.arange(1, 9):\n",
    "    print(k)\n",
    "    pls = PLSRegression(n_components=k, scale=False, trans_function_name='very_fast_growth')\n",
    "    pls.fit(X_train, Y_train)\n",
    "    Y_pred = pls.predict(X_test)\n",
    "    res[k - 1] = mean_squared_error(Y_test, Y_pred)\n",
    "plt.plot(res)"
   ]
  },
  {
   "cell_type": "code",
   "execution_count": null,
   "metadata": {
    "collapsed": true
   },
   "outputs": [],
   "source": []
  }
 ],
 "metadata": {
  "kernelspec": {
   "display_name": "Python 3",
   "language": "python",
   "name": "python3"
  },
  "language_info": {
   "codemirror_mode": {
    "name": "ipython",
    "version": 3
   },
   "file_extension": ".py",
   "mimetype": "text/x-python",
   "name": "python",
   "nbconvert_exporter": "python",
   "pygments_lexer": "ipython3",
   "version": "3.6.0"
  }
 },
 "nbformat": 4,
 "nbformat_minor": 2
}
